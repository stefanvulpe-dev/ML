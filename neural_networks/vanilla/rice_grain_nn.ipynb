{
 "cells": [
  {
   "cell_type": "markdown",
   "metadata": {},
   "source": [
    "# Rice grain classification Neural Network\n",
    "\n",
    "This notebook is a simple implementation of a neural network to classify rice grains. The dataset used is the [Rice (Cammeo and Osmancik)](https://archive.ics.uci.edu/dataset/545/rice+cammeo+and+osmancik) from UCI Machine Learning Repository. A total of 3810 rice grain's images were taken for the two species, processed and feature inferences were made. 7 morphological features were obtained for each grain of rice. "
   ]
  },
  {
   "cell_type": "code",
   "execution_count": 25,
   "metadata": {},
   "outputs": [],
   "source": [
    "import torch\n",
    "import pandas as pd\n",
    "import matplotlib.pyplot as plt\n",
    "from torch import nn\n",
    "from torch.utils.data import DataLoader, Dataset\n",
    "from torchvision.transforms import Lambda"
   ]
  },
  {
   "cell_type": "markdown",
   "metadata": {},
   "source": [
    "Now, we need to define 2 classes for our data in order to work with pytorch."
   ]
  },
  {
   "cell_type": "code",
   "execution_count": 15,
   "metadata": {},
   "outputs": [],
   "source": [
    "class RiceDataset(Dataset):\n",
    "    def __init__(self, csv_file, transform=None, target_transform=None):\n",
    "        self.transform = transform\n",
    "        self.target_transform = target_transform\n",
    "        self.data = pd.read_csv(csv_file)\n",
    "        self.data = self.data.drop(0)\n",
    "        self.data.fillna(0, inplace=True)\n",
    "        self.data = self.data.dropna()\n",
    "        self.data = self.data.reset_index(drop=True)\n",
    "\n",
    "        # normalize each column\n",
    "        for i in range(len(self.data.columns) - 1):\n",
    "            self.data.iloc[:, i] = (self.data.iloc[:, i] - self.data.iloc[:, i].mean()) / self.data.iloc[:, i].std()\n",
    "\n",
    "\n",
    "    def __len__(self):\n",
    "        return len(self.data)\n",
    "    \n",
    "\n",
    "    def __getitem__(self, idx):\n",
    "        data = self.data.iloc[idx, :-1].values.astype('float64')\n",
    "        target = self.data.iloc[idx, -1]\n",
    "        if self.transform:\n",
    "            data = self.transform(data)\n",
    "        if self.target_transform:\n",
    "            target = self.target_transform(target)\n",
    "        return data, target"
   ]
  },
  {
   "cell_type": "code",
   "execution_count": null,
   "metadata": {},
   "outputs": [],
   "source": [
    "train_dataset = RiceDataset('./data/rice_datasets/train.csv', \n",
    "                      transform=torch.from_numpy, \n",
    "                      target_transform=Lambda(lambda y: torch.tensor([1, 0]) if y == 'Cammeo' else torch.tensor([0, 1], dtype=torch.float64)))\n",
    "\n",
    "test_dataset = RiceDataset('./data/rice_datasets/test.csv',\n",
    "                        transform=torch.from_numpy, \n",
    "                        target_transform=Lambda(lambda y: torch.tensor([1, 0]) if y == 'Cammeo' else torch.tensor([0, 1], dtype=torch.float64)))\n",
    "\n",
    "train_loader = DataLoader(train_dataset, batch_size=64, shuffle=True)\n",
    "test_loader = DataLoader(test_dataset, batch_size=64, shuffle=True)"
   ]
  },
  {
   "cell_type": "markdown",
   "metadata": {},
   "source": [
    "Let's define the model class. "
   ]
  },
  {
   "cell_type": "code",
   "execution_count": 17,
   "metadata": {},
   "outputs": [
    {
     "name": "stdout",
     "output_type": "stream",
     "text": [
      "NeuralNetwork(\n",
      "  (relu_stack): Sequential(\n",
      "    (0): Linear(in_features=7, out_features=5, bias=True)\n",
      "    (1): ReLU()\n",
      "    (2): Linear(in_features=5, out_features=2, bias=True)\n",
      "  )\n",
      ")\n"
     ]
    }
   ],
   "source": [
    "device = torch.device('cuda' if torch.cuda.is_available() else 'cpu')\n",
    "\n",
    "class NeuralNetwork(nn.Module):\n",
    "    def __init__(self):\n",
    "        super().__init__()\n",
    "        self.relu_stack = nn.Sequential(\n",
    "            nn.Linear(7, 5, dtype=torch.float64),\n",
    "            nn.ReLU(),\n",
    "            nn.Linear(5, 2, dtype=torch.float64),\n",
    "        )\n",
    "\n",
    "    \n",
    "    def forward(self, x):\n",
    "        logits = self.relu_stack(x)\n",
    "        return nn.functional.softmax(logits, dim=1)\n",
    "    \n",
    "\n",
    "model = NeuralNetwork().to(device)\n",
    "print(model)"
   ]
  },
  {
   "cell_type": "code",
   "execution_count": 24,
   "metadata": {},
   "outputs": [],
   "source": [
    "def train(dataloader, model, loss_fn, optimizer):\n",
    "    size = len(dataloader.dataset)\n",
    "    train_loss = 0\n",
    "    \n",
    "    for batch, (X, y) in enumerate(dataloader):\n",
    "        X, y = X.to(device), y.to(device)\n",
    "\n",
    "        # Compute prediction error\n",
    "        pred = model(X)\n",
    "        loss = loss_fn(pred, y)\n",
    "\n",
    "        train_loss += loss.item()\n",
    "\n",
    "        # Backpropagation\n",
    "        optimizer.zero_grad()\n",
    "        loss.backward()\n",
    "        optimizer.step()\n",
    "\n",
    "        if batch % 10 == 0:\n",
    "            loss, current = loss.item(), batch * len(X)\n",
    "            print(f'loss: {loss:>7f}  [{current:>5d}/{size:>5d}]')\n",
    "\n",
    "    return train_loss / size\n",
    "\n",
    "\n",
    "def test(dataloader, model, loss_fn):\n",
    "    size = len(dataloader.dataset)\n",
    "    model.eval()\n",
    "    test_loss, correct = 0, 0\n",
    "    \n",
    "    with torch.no_grad():\n",
    "        for X, y in dataloader:\n",
    "            X, y = X.to(device), y.to(device)\n",
    "            pred = model(X)\n",
    "            test_loss += loss_fn(pred, y).item()\n",
    "            correct += (pred.argmax(1) == y.argmax(1)).type(torch.float).sum().item()\n",
    "\n",
    "    test_loss /= size\n",
    "    correct /= size\n",
    "    \n",
    "    print(f'Test Error: \\n Accuracy: {(100*correct):>0.1f}%, Avg loss: {test_loss:>8f} \\n')\n",
    "\n",
    "    return test_loss"
   ]
  },
  {
   "cell_type": "markdown",
   "metadata": {},
   "source": [
    "We will use Adam optimizer and CrossEntropyLoss as the loss function."
   ]
  },
  {
   "cell_type": "code",
   "execution_count": 19,
   "metadata": {},
   "outputs": [],
   "source": [
    "optimizer = torch.optim.Adam(model.parameters(), lr=1e-1)\n",
    "loss_fn = nn.BCELoss()"
   ]
  },
  {
   "cell_type": "markdown",
   "metadata": {},
   "source": [
    "Let's train the model and see the results."
   ]
  },
  {
   "cell_type": "code",
   "execution_count": 20,
   "metadata": {},
   "outputs": [
    {
     "name": "stdout",
     "output_type": "stream",
     "text": [
      "Epoch 1\n",
      "-------------------------------\n",
      "loss: 0.666673  [    0/ 3047]\n",
      "loss: 0.219773  [  640/ 3047]\n",
      "loss: 0.204868  [ 1280/ 3047]\n",
      "loss: 0.124417  [ 1920/ 3047]\n",
      "loss: 0.146407  [ 2560/ 3047]\n",
      "Test Error: \n",
      " Accuracy: 92.1%, Avg loss: 0.003250 \n",
      "\n",
      "Epoch 2\n",
      "-------------------------------\n",
      "loss: 0.181541  [    0/ 3047]\n",
      "loss: 0.254110  [  640/ 3047]\n",
      "loss: 0.262467  [ 1280/ 3047]\n",
      "loss: 0.257686  [ 1920/ 3047]\n",
      "loss: 0.153816  [ 2560/ 3047]\n",
      "Test Error: \n",
      " Accuracy: 92.5%, Avg loss: 0.003481 \n",
      "\n",
      "Epoch 3\n",
      "-------------------------------\n",
      "loss: 0.215540  [    0/ 3047]\n",
      "loss: 0.191004  [  640/ 3047]\n",
      "loss: 0.113356  [ 1280/ 3047]\n",
      "loss: 0.190378  [ 1920/ 3047]\n",
      "loss: 0.265382  [ 2560/ 3047]\n",
      "Test Error: \n",
      " Accuracy: 92.0%, Avg loss: 0.003176 \n",
      "\n",
      "Epoch 4\n",
      "-------------------------------\n",
      "loss: 0.130220  [    0/ 3047]\n",
      "loss: 0.216968  [  640/ 3047]\n",
      "loss: 0.324268  [ 1280/ 3047]\n",
      "loss: 0.289880  [ 1920/ 3047]\n",
      "loss: 0.164207  [ 2560/ 3047]\n",
      "Test Error: \n",
      " Accuracy: 92.1%, Avg loss: 0.003072 \n",
      "\n",
      "Epoch 5\n",
      "-------------------------------\n",
      "loss: 0.149203  [    0/ 3047]\n",
      "loss: 0.174334  [  640/ 3047]\n",
      "loss: 0.199260  [ 1280/ 3047]\n",
      "loss: 0.083845  [ 1920/ 3047]\n",
      "loss: 0.304871  [ 2560/ 3047]\n",
      "Test Error: \n",
      " Accuracy: 91.1%, Avg loss: 0.003116 \n",
      "\n",
      "Epoch 6\n",
      "-------------------------------\n",
      "loss: 0.201798  [    0/ 3047]\n",
      "loss: 0.147225  [  640/ 3047]\n",
      "loss: 0.211710  [ 1280/ 3047]\n",
      "loss: 0.171643  [ 1920/ 3047]\n",
      "loss: 0.273807  [ 2560/ 3047]\n",
      "Test Error: \n",
      " Accuracy: 92.0%, Avg loss: 0.003269 \n",
      "\n",
      "Epoch 7\n",
      "-------------------------------\n",
      "loss: 0.329185  [    0/ 3047]\n",
      "loss: 0.168089  [  640/ 3047]\n",
      "loss: 0.099934  [ 1280/ 3047]\n",
      "loss: 0.108571  [ 1920/ 3047]\n",
      "loss: 0.332866  [ 2560/ 3047]\n",
      "Test Error: \n",
      " Accuracy: 92.4%, Avg loss: 0.003056 \n",
      "\n",
      "Epoch 8\n",
      "-------------------------------\n",
      "loss: 0.169960  [    0/ 3047]\n",
      "loss: 0.146842  [  640/ 3047]\n",
      "loss: 0.149342  [ 1280/ 3047]\n",
      "loss: 0.235593  [ 1920/ 3047]\n",
      "loss: 0.222511  [ 2560/ 3047]\n",
      "Test Error: \n",
      " Accuracy: 91.7%, Avg loss: 0.003070 \n",
      "\n",
      "Epoch 9\n",
      "-------------------------------\n",
      "loss: 0.246557  [    0/ 3047]\n",
      "loss: 0.199368  [  640/ 3047]\n",
      "loss: 0.130917  [ 1280/ 3047]\n",
      "loss: 0.097988  [ 1920/ 3047]\n",
      "loss: 0.125142  [ 2560/ 3047]\n",
      "Test Error: \n",
      " Accuracy: 91.1%, Avg loss: 0.003245 \n",
      "\n",
      "Epoch 10\n",
      "-------------------------------\n",
      "loss: 0.203556  [    0/ 3047]\n",
      "loss: 0.101168  [  640/ 3047]\n",
      "loss: 0.159937  [ 1280/ 3047]\n",
      "loss: 0.194419  [ 1920/ 3047]\n",
      "loss: 0.272907  [ 2560/ 3047]\n",
      "Test Error: \n",
      " Accuracy: 92.0%, Avg loss: 0.003089 \n",
      "\n",
      "Done!\n"
     ]
    }
   ],
   "source": [
    "epochs = 10\n",
    "total_train_losses = []\n",
    "total_test_losses = []\n",
    "\n",
    "for t in range(epochs):\n",
    "    print(f'Epoch {t+1}\\n-------------------------------')\n",
    "    train_loss = train(train_loader, model, loss_fn, optimizer)\n",
    "    test_loss = test(test_loader, model, loss_fn)\n",
    "    total_train_losses.append(train_loss)\n",
    "    total_test_losses.append(test_loss)\n",
    "\n",
    "print('Done!')"
   ]
  },
  {
   "cell_type": "markdown",
   "metadata": {},
   "source": [
    "Plot of the accuracy and loss graphs."
   ]
  },
  {
   "cell_type": "code",
   "execution_count": 21,
   "metadata": {},
   "outputs": [
    {
     "data": {
      "image/png": "[encoded data removed]",
      "text/plain": [
       "<Figure size 640x480 with 1 Axes>"
      ]
     },
     "metadata": {},
     "output_type": "display_data"
    }
   ],
   "source": [
    "epochs = range(1, epochs + 1)\n",
    "\n",
    "plt.plot(epochs, total_train_losses, 'g', label='Training loss')\n",
    "plt.plot(epochs, total_test_losses, 'b', label='Validation loss')\n",
    "plt.title('Training and Validation loss')\n",
    "plt.xlabel('Epochs')\n",
    "plt.ylabel('Loss')\n",
    "plt.legend()\n",
    "plt.show()"
   ]
  }
 ],
 "metadata": {
  "kernelspec": {
   "display_name": "machine_learning",
   "language": "python",
   "name": "python3"
  },
  "language_info": {
   "codemirror_mode": {
    "name": "ipython",
    "version": 3
   },
   "file_extension": ".py",
   "mimetype": "text/x-python",
   "name": "python",
   "nbconvert_exporter": "python",
   "pygments_lexer": "ipython3",
   "version": "3.11.9"
  }
 },
 "nbformat": 4,
 "nbformat_minor": 2
}
