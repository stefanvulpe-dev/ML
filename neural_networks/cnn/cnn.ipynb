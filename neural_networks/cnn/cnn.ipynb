{
 "cells": [
  {
   "cell_type": "markdown",
   "metadata": {},
   "source": [
    "# Image classifier using a CNN\n",
    "\n",
    "This notebook is a simple example of how to use a Convolutional Neural Network (CNN) to classify images. The dataset used is the CIFAR-10 dataset, which consists of 60000 32x32 colour images in 10 classes, with 6000 images per class. The classes are: airplane, automobile, bird, cat, deer, dog, frog, horse, ship, truck."
   ]
  },
  {
   "cell_type": "code",
   "execution_count": 110,
   "metadata": {},
   "outputs": [],
   "source": [
    "import matplotlib.pyplot as plt\n",
    "import numpy as np\n",
    "import torch\n",
    "import torch.nn as nn\n",
    "import torch.nn.functional as F\n",
    "import torch.optim as optim\n",
    "import torchvision\n",
    "import torchvision.transforms as transforms\n",
    "import torchvision.datasets as datasets\n",
    "from torch.utils.data import DataLoader"
   ]
  },
  {
   "cell_type": "code",
   "execution_count": 111,
   "metadata": {},
   "outputs": [
    {
     "name": "stdout",
     "output_type": "stream",
     "text": [
      "Files already downloaded and verified\n",
      "Files already downloaded and verified\n"
     ]
    }
   ],
   "source": [
    "tansform = transforms.Compose([\n",
    "    transforms.ToTensor(),\n",
    "    transforms.Normalize((0.5,), (0.5,))\n",
    "])\n",
    "\n",
    "train_dataset = datasets.CIFAR10(root='../data', train=True, download=True, transform=tansform)\n",
    "\n",
    "train_loader = DataLoader(train_dataset, batch_size=100, shuffle=True)\n",
    "\n",
    "test_dataset = datasets.CIFAR10(root='../data', train=False, download=True, transform=tansform)\n",
    "\n",
    "test_loader = DataLoader(test_dataset, batch_size=100, shuffle=False)\n",
    "\n",
    "classes = ('plane', 'car', 'bird', 'cat', 'deer', 'dog', 'frog', 'horse', 'ship', 'truck')"
   ]
  },
  {
   "cell_type": "code",
   "execution_count": 112,
   "metadata": {},
   "outputs": [
    {
     "data": {
      "image/png": "[encoded data removed]",
      "text/plain": [
       "<Figure size 800x800 with 1 Axes>"
      ]
     },
     "metadata": {},
     "output_type": "display_data"
    },
    {
     "name": "stdout",
     "output_type": "stream",
     "text": [
      " bird  ship truck  ship\n"
     ]
    }
   ],
   "source": [
    "def imshow(img):\n",
    "    img = img / 2 + 0.5\n",
    "    npimg = img.numpy()\n",
    "    fig, ax = plt.subplots(figsize=(8, 8))\n",
    "    ax.imshow(np.transpose(npimg, (1, 2, 0)))\n",
    "    ax.axis('off')\n",
    "    plt.show()\n",
    "\n",
    "\n",
    "images, labels = next(iter(train_loader))\n",
    "\n",
    "imshow(torchvision.utils.make_grid(images[:4], padding=4, scale_each=True))\n",
    "\n",
    "print(' '.join('%5s' % classes[labels[j]] for j in range(4)))"
   ]
  },
  {
   "cell_type": "code",
   "execution_count": 113,
   "metadata": {},
   "outputs": [
    {
     "name": "stdout",
     "output_type": "stream",
     "text": [
      "CNN(\n",
      "  (conv1): Conv2d(3, 6, kernel_size=(5, 5), stride=(1, 1))\n",
      "  (pool): MaxPool2d(kernel_size=2, stride=2, padding=0, dilation=1, ceil_mode=False)\n",
      "  (conv2): Conv2d(6, 16, kernel_size=(5, 5), stride=(1, 1))\n",
      "  (fc1): Linear(in_features=400, out_features=120, bias=True)\n",
      "  (fc2): Linear(in_features=120, out_features=84, bias=True)\n",
      "  (fc3): Linear(in_features=84, out_features=10, bias=True)\n",
      ")\n"
     ]
    }
   ],
   "source": [
    "class CNN(nn.Module):\n",
    "    def __init__(self):\n",
    "        super().__init__()\n",
    "        self.conv1 = nn.Conv2d(3, 6, 5)\n",
    "        self.pool = nn.MaxPool2d(2, 2)\n",
    "        self.conv2 = nn.Conv2d(6, 16, 5)\n",
    "        self.fc1 = nn.Linear(16 * 5 * 5, 120)\n",
    "        self.fc2 = nn.Linear(120, 84)\n",
    "        self.fc3 = nn.Linear(84, 10)\n",
    "\n",
    "    def forward(self, x):\n",
    "        x = self.pool(F.relu(self.conv1(x)))\n",
    "        x = self.pool(F.relu(self.conv2(x)))\n",
    "        x = nn.Flatten()(x)   \n",
    "        x = F.relu(self.fc1(x))\n",
    "        x = F.relu(self.fc2(x))\n",
    "        x = self.fc3(x)\n",
    "        return x\n",
    "    \n",
    "\n",
    "device = torch.device('cuda' if torch.cuda.is_available() else 'cpu')\n",
    "\n",
    "model = CNN().to(device)\n",
    "\n",
    "print(model)"
   ]
  },
  {
   "cell_type": "code",
   "execution_count": 114,
   "metadata": {},
   "outputs": [],
   "source": [
    "loss_fn = nn.CrossEntropyLoss()\n",
    "optimizer = optim.SGD(model.parameters(), lr=0.001, momentum=0.9)"
   ]
  },
  {
   "cell_type": "code",
   "execution_count": 115,
   "metadata": {},
   "outputs": [],
   "source": [
    "def train(model, loader, loss_fn, optimizer):\n",
    "    size = len(loader.dataset)\n",
    "    model.train()\n",
    "    \n",
    "    for batch, (x, y) in enumerate(loader):\n",
    "        inputs, labels = x.to(device), y.to(device)\n",
    "\n",
    "        outputs = model(inputs)\n",
    "\n",
    "        loss = loss_fn(outputs, labels)\n",
    "        \n",
    "        optimizer.zero_grad()\n",
    "        loss.backward()\n",
    "        optimizer.step()\n",
    "        \n",
    "        if batch % 100 == 0:\n",
    "            loss, current = loss.item(), batch * len(inputs)\n",
    "            print(f'[{current:>5d}/{size:>5d}] loss: {loss:>7f}')\n",
    "\n",
    "\n",
    "def test(model, loader, loss_fn):\n",
    "    model.eval()\n",
    "    test_loss = 0\n",
    "    correct = 0\n",
    "\n",
    "    with torch.no_grad():\n",
    "        for x, y in loader:\n",
    "            inputs, labels = x.to(device), y.to(device)\n",
    "            outputs = model(inputs)\n",
    "            test_loss += loss_fn(outputs, labels).item()\n",
    "            pred = outputs.argmax(dim=1, keepdim=True)\n",
    "            correct += pred.eq(labels.view_as(pred)).sum().item()\n",
    "\n",
    "    test_loss /= len(loader.dataset)\n",
    "    test_accuracy = 100. * correct / len(loader.dataset)\n",
    "    print(f'\\nAverage loss: {test_loss}, Accuracy: {test_accuracy}%\\n')"
   ]
  },
  {
   "cell_type": "code",
   "execution_count": 116,
   "metadata": {},
   "outputs": [
    {
     "name": "stdout",
     "output_type": "stream",
     "text": [
      "Epoch 1\n",
      "-----------------------------------\n",
      "\n",
      "[    0/50000] loss: 2.298599\n",
      "[10000/50000] loss: 2.296345\n",
      "[20000/50000] loss: 2.309300\n",
      "[30000/50000] loss: 2.305393\n",
      "[40000/50000] loss: 2.304018\n",
      "\n",
      "Average loss: 0.023000881028175355, Accuracy: 10.4%\n",
      "\n",
      "Epoch 2\n",
      "-----------------------------------\n",
      "\n",
      "[    0/50000] loss: 2.299791\n",
      "[10000/50000] loss: 2.296515\n",
      "[20000/50000] loss: 2.296494\n",
      "[30000/50000] loss: 2.291609\n",
      "[40000/50000] loss: 2.289054\n",
      "\n",
      "Average loss: 0.02284361619949341, Accuracy: 17.05%\n",
      "\n",
      "Epoch 3\n",
      "-----------------------------------\n",
      "\n",
      "[    0/50000] loss: 2.282311\n",
      "[10000/50000] loss: 2.269842\n",
      "[20000/50000] loss: 2.254164\n",
      "[30000/50000] loss: 2.214095\n",
      "[40000/50000] loss: 2.209249\n",
      "\n",
      "Average loss: 0.020722372961044313, Accuracy: 24.49%\n",
      "\n",
      "Epoch 4\n",
      "-----------------------------------\n",
      "\n",
      "[    0/50000] loss: 2.104902\n",
      "[10000/50000] loss: 2.095367\n",
      "[20000/50000] loss: 1.984151\n",
      "[30000/50000] loss: 2.093236\n",
      "[40000/50000] loss: 1.950942\n",
      "\n",
      "Average loss: 0.018770077335834502, Accuracy: 31.24%\n",
      "\n",
      "Epoch 5\n",
      "-----------------------------------\n",
      "\n",
      "[    0/50000] loss: 1.866994\n",
      "[10000/50000] loss: 1.857571\n",
      "[20000/50000] loss: 1.966441\n",
      "[30000/50000] loss: 1.757211\n",
      "[40000/50000] loss: 1.863452\n",
      "\n",
      "Average loss: 0.01746778463125229, Accuracy: 36.17%\n",
      "\n",
      "Epoch 6\n",
      "-----------------------------------\n",
      "\n",
      "[    0/50000] loss: 1.724834\n",
      "[10000/50000] loss: 1.825624\n",
      "[20000/50000] loss: 1.642777\n",
      "[30000/50000] loss: 1.580401\n",
      "[40000/50000] loss: 1.588157\n",
      "\n",
      "Average loss: 0.016443766331672667, Accuracy: 39.96%\n",
      "\n",
      "Epoch 7\n",
      "-----------------------------------\n",
      "\n",
      "[    0/50000] loss: 1.470837\n",
      "[10000/50000] loss: 1.673054\n",
      "[20000/50000] loss: 1.623301\n",
      "[30000/50000] loss: 1.458126\n",
      "[40000/50000] loss: 1.551133\n",
      "\n",
      "Average loss: 0.01571187251806259, Accuracy: 42.54%\n",
      "\n",
      "Epoch 8\n",
      "-----------------------------------\n",
      "\n",
      "[    0/50000] loss: 1.537739\n",
      "[10000/50000] loss: 1.702778\n",
      "[20000/50000] loss: 1.710313\n",
      "[30000/50000] loss: 1.563736\n",
      "[40000/50000] loss: 1.438637\n",
      "\n",
      "Average loss: 0.015234523296356202, Accuracy: 44.53%\n",
      "\n",
      "Epoch 9\n",
      "-----------------------------------\n",
      "\n",
      "[    0/50000] loss: 1.764973\n",
      "[10000/50000] loss: 1.517602\n",
      "[20000/50000] loss: 1.533230\n",
      "[30000/50000] loss: 1.502880\n",
      "[40000/50000] loss: 1.427191\n",
      "\n",
      "Average loss: 0.014631579673290252, Accuracy: 46.95%\n",
      "\n",
      "Epoch 10\n",
      "-----------------------------------\n",
      "\n",
      "[    0/50000] loss: 1.414663\n",
      "[10000/50000] loss: 1.315135\n",
      "[20000/50000] loss: 1.797318\n",
      "[30000/50000] loss: 1.408553\n",
      "[40000/50000] loss: 1.318261\n",
      "\n",
      "Average loss: 0.014276762413978577, Accuracy: 48.02%\n",
      "\n",
      "Done!\n"
     ]
    }
   ],
   "source": [
    "epochs = 10\n",
    "\n",
    "for epoch in range(epochs):\n",
    "    print(f'Epoch {epoch + 1}\\n' + '-' * 35 + '\\n')\n",
    "    train(model, train_loader, loss_fn, optimizer)\n",
    "    test(model, test_loader, loss_fn)\n",
    "\n",
    "print('Done!')"
   ]
  },
  {
   "cell_type": "markdown",
   "metadata": {},
   "source": [
    "Let's see how the model performs on some examples."
   ]
  },
  {
   "cell_type": "code",
   "execution_count": 117,
   "metadata": {},
   "outputs": [
    {
     "data": {
      "image/png": "[encoded data removed]",
      "text/plain": [
       "<Figure size 800x800 with 1 Axes>"
      ]
     },
     "metadata": {},
     "output_type": "display_data"
    },
    {
     "name": "stdout",
     "output_type": "stream",
     "text": [
      "GroundTruth:    cat  ship  ship plane\n",
      "Predicted:    cat  ship   car  ship\n"
     ]
    }
   ],
   "source": [
    "test_data_iter = iter(test_loader)\n",
    "\n",
    "images, labels = next(test_data_iter)\n",
    "\n",
    "imshow(torchvision.utils.make_grid(images[:4], padding=4, scale_each=True))\n",
    "\n",
    "print('GroundTruth: ', ' '.join('%5s' % classes[labels[j]] for j in range(4)))\n",
    "\n",
    "model.eval()\n",
    "outputs = model(images.to(device))\n",
    "\n",
    "_, predicted = torch.max(outputs, 1)\n",
    "\n",
    "print('Predicted: ', ' '.join('%5s' % classes[predicted[j]] for j in range(4)))"
   ]
  },
  {
   "cell_type": "code",
   "execution_count": 118,
   "metadata": {},
   "outputs": [
    {
     "name": "stdout",
     "output_type": "stream",
     "text": [
      "Accuracy for class: plane is 44.7 %\n",
      "Accuracy for class: car   is 67.3 %\n",
      "Accuracy for class: bird  is 25.8 %\n",
      "Accuracy for class: cat   is 21.3 %\n",
      "Accuracy for class: deer  is 35.7 %\n",
      "Accuracy for class: dog   is 41.7 %\n",
      "Accuracy for class: frog  is 62.5 %\n",
      "Accuracy for class: horse is 65.8 %\n",
      "Accuracy for class: ship  is 60.7 %\n",
      "Accuracy for class: truck is 54.7 %\n"
     ]
    }
   ],
   "source": [
    "class_correct = {classname: 0 for classname in classes}\n",
    "class_total = {classname: 0 for classname in classes}\n",
    "\n",
    "model.eval()\n",
    "with torch.no_grad():\n",
    "    for x, y in test_loader:\n",
    "        inputs, labels = x.to(device), y.to(device)\n",
    "        outputs = model(inputs)\n",
    "        _, predicted = torch.max(outputs, 1)\n",
    "        \n",
    "        for label, prediction in zip(labels, predicted):\n",
    "            if label == prediction:\n",
    "                class_correct[classes[label]] += 1\n",
    "            class_total[classes[label]] += 1\n",
    "\n",
    "for classname, correct_count in class_correct.items():\n",
    "    accuracy = 100 * float(correct_count) / class_total[classname]\n",
    "    print(f'Accuracy for class: {classname:5s} is {accuracy:.1f} %')"
   ]
  }
 ],
 "metadata": {
  "kernelspec": {
   "display_name": "machine_learning",
   "language": "python",
   "name": "python3"
  },
  "language_info": {
   "codemirror_mode": {
    "name": "ipython",
    "version": 3
   },
   "file_extension": ".py",
   "mimetype": "text/x-python",
   "name": "python",
   "nbconvert_exporter": "python",
   "pygments_lexer": "ipython3",
   "version": "3.11.9"
  }
 },
 "nbformat": 4,
 "nbformat_minor": 2
}
